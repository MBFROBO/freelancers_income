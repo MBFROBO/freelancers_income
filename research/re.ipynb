{
 "cells": [
  {
   "cell_type": "markdown",
   "id": "c0477ef5",
   "metadata": {},
   "source": [
    "# Исследуем API нейросетей на возможность писать корректные SQL запросы"
   ]
  },
  {
   "cell_type": "code",
   "execution_count": 96,
   "id": "8849f2da",
   "metadata": {},
   "outputs": [],
   "source": [
    "import numpy as np\n",
    "import pandas as pd\n",
    "import psycopg2"
   ]
  },
  {
   "cell_type": "code",
   "execution_count": 97,
   "id": "76dc4caa",
   "metadata": {},
   "outputs": [],
   "source": [
    "DEEPSEEK_KEY = \"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\""
   ]
  },
  {
   "cell_type": "code",
   "execution_count": 98,
   "id": "1f5ce084",
   "metadata": {},
   "outputs": [
    {
     "name": "stdout",
     "output_type": "stream",
     "text": [
      "The meaning of life is a deeply personal and multifaceted concept that varies across individuals, cultures, and philosophical traditions. Here's a structured synthesis of the exploration:\n",
      "\n",
      "1. **Philosophical Perspectives**:\n",
      "   - **Existentialism**: Life has no inherent meaning; individuals must create their own purpose through choices and actions (e.g., Sartre, Camus).\n",
      "   - **Absurdism**: Embraces the conflict between seeking meaning and an indifferent universe, finding joy in the struggle itself (Camus).\n",
      "\n",
      "2. **Religious/Spiritual Views**:\n",
      "   - **Theistic Religions**: Purpose often involves serving a divine being, achieving salvation, or enlightenment (e.g., Christianity, Buddhism).\n",
      "   - **Eastern Philosophies**: Focus on ending suffering (Buddhism) or harmonizing with the universe (Taoism).\n",
      "\n",
      "3. **Scientific Angle**:\n",
      "   - **Biology**: Survival, reproduction, and genetic continuity, though humans seek fulfillment beyond these basics.\n",
      "   - **Cosmology**: Some explore meaning through the universe's origins, though science typically addresses \"how\" rather than \"why.\"\n",
      "\n",
      "4. **Psychological Insights**:\n",
      "   - **Maslow's Hierarchy**: Progressing from basic needs to self-actualization and transcendence.\n",
      "   - **Positive Psychology**: Emphasizes well-being, relationships, and personal growth as sources of meaning.\n",
      "\n",
      "5. **Cultural Influences**:\n",
      "   - **Collectivist vs. Individualist**: Community vs. personal achievement; cultural values shape perceived purposes.\n",
      "\n",
      "6. **Subjective vs. Objective Meaning**:\n",
      "   - **Subjective**: Personal fulfillment, relationships, creativity, or legacy.\n",
      "   - **Objective**: Hypothetical universal purpose (e.g., moral frameworks, divine plans), though debated.\n",
      "\n",
      "7. **Synthesis**:\n",
      "   - The search for meaning itself—through love, art, knowledge, or service—often becomes the journey that defines purpose. It may blend personal aspirations, connections, and contributions to a greater good.\n",
      "\n",
      "**Conclusion**: There is no singular answer. The meaning of life emerges from an individual's exploration of existence, shaped by their beliefs, experiences, and cultural context. It is a dynamic, evolving pursuit rather than a fixed destination.\n"
     ]
    }
   ],
   "source": [
    "from openai import OpenAI\n",
    "\n",
    "client = OpenAI(\n",
    "  base_url=\"https://openrouter.ai/api/v1\",\n",
    "  api_key=DEEPSEEK_KEY,\n",
    ")\n",
    "\n",
    "completion = client.chat.completions.create(\n",
    "  model=\"deepseek/deepseek-r1:free\",\n",
    "  messages=[\n",
    "    {\n",
    "      \"role\": \"user\",\n",
    "      \"content\": \"What is the meaning of life?\"\n",
    "    }\n",
    "  ],\n",
    "  temperature=0\n",
    ")\n",
    "response_message = completion.choices[0].message.content\n",
    "print(response_message )"
   ]
  },
  {
   "cell_type": "markdown",
   "id": "c47e2ade",
   "metadata": {},
   "source": [
    "Имея доступ к нейросети deepseek, распарсим таблицу данных на группы."
   ]
  },
  {
   "cell_type": "code",
   "execution_count": 101,
   "id": "a01f01b6",
   "metadata": {},
   "outputs": [
    {
     "name": "stderr",
     "output_type": "stream",
     "text": [
      "/tmp/ipykernel_20865/3059670997.py:5: UserWarning: pandas only supports SQLAlchemy connectable (engine/connection) or database string URI or sqlite3 DBAPI2 connection. Other DBAPI2 objects are not tested. Please consider using SQLAlchemy.\n",
      "  df = pd.read_sql_query(\"Select * FROM freelancers\", conn)\n"
     ]
    },
    {
     "data": {
      "application/vnd.microsoft.datawrangler.viewer.v0+json": {
       "columns": [
        {
         "name": "index",
         "rawType": "int64",
         "type": "integer"
        },
        {
         "name": "freelancer_id",
         "rawType": "float64",
         "type": "float"
        },
        {
         "name": "job_category",
         "rawType": "object",
         "type": "string"
        },
        {
         "name": "platform",
         "rawType": "object",
         "type": "string"
        },
        {
         "name": "experience_level",
         "rawType": "object",
         "type": "string"
        },
        {
         "name": "client_region",
         "rawType": "object",
         "type": "string"
        },
        {
         "name": "payment_method",
         "rawType": "object",
         "type": "string"
        },
        {
         "name": "job_completed",
         "rawType": "float64",
         "type": "float"
        },
        {
         "name": "earnings_usd",
         "rawType": "float64",
         "type": "float"
        },
        {
         "name": "hourly_rate",
         "rawType": "float64",
         "type": "float"
        },
        {
         "name": "job_success_rate",
         "rawType": "float64",
         "type": "float"
        },
        {
         "name": "client_rating",
         "rawType": "float64",
         "type": "float"
        },
        {
         "name": "job_duration_days",
         "rawType": "float64",
         "type": "float"
        },
        {
         "name": "project_type",
         "rawType": "object",
         "type": "string"
        },
        {
         "name": "rehire_rate",
         "rawType": "float64",
         "type": "float"
        },
        {
         "name": "marketing_spend",
         "rawType": "float64",
         "type": "float"
        }
       ],
       "ref": "5f680665-583a-4e32-b40f-3a54c7323d70",
       "rows": [
        [
         "0",
         "1.0",
         "Web Development",
         "Fiverr",
         "Beginner",
         "Asia",
         "Mobile Banking",
         "180.0",
         "1620.0",
         "95.79",
         "68.73",
         "3.18",
         "1.0",
         "Fixed",
         "40.19",
         "53.0"
        ],
        [
         "1",
         "2.0",
         "App Development",
         "Fiverr",
         "Beginner",
         "Australia",
         "Mobile Banking",
         "218.0",
         "9078.0",
         "86.38",
         "97.54",
         "3.44",
         "54.0",
         "Fixed",
         "36.53",
         "486.0"
        ],
        [
         "2",
         "3.0",
         "Web Development",
         "Fiverr",
         "Beginner",
         "UK",
         "Crypto",
         "27.0",
         "3455.0",
         "85.17",
         "86.6",
         "4.2",
         "46.0",
         "Hourly",
         "74.05",
         "489.0"
        ],
        [
         "3",
         "4.0",
         "Data Entry",
         "PeoplePerHour",
         "Intermediate",
         "Asia",
         "Bank Transfer",
         "17.0",
         "5577.0",
         "14.37",
         "79.93",
         "4.47",
         "41.0",
         "Hourly",
         "27.58",
         "67.0"
        ],
        [
         "4",
         "5.0",
         "Digital Marketing",
         "Upwork",
         "Expert",
         "Asia",
         "Crypto",
         "245.0",
         "5898.0",
         "99.37",
         "57.8",
         "5.0",
         "41.0",
         "Hourly",
         "69.09",
         "489.0"
        ],
        [
         "5",
         "6.0",
         "Customer Support",
         "Toptal",
         "Beginner",
         "Europe",
         "Crypto",
         "280.0",
         "6867.0",
         "43.04",
         "57.8",
         "4.87",
         "8.0",
         "Fixed",
         "43.88",
         "290.0"
        ],
        [
         "6",
         "7.0",
         "Web Development",
         "Fiverr",
         "Beginner",
         "USA",
         "Crypto",
         "96.0",
         "1677.0",
         "20.5",
         "52.9",
         "4.29",
         "32.0",
         "Hourly",
         "45.99",
         "343.0"
        ],
        [
         "7",
         "8.0",
         "Data Entry",
         "Toptal",
         "Beginner",
         "Australia",
         "Bank Transfer",
         "112.0",
         "6193.0",
         "82.15",
         "93.31",
         "3.84",
         "30.0",
         "Fixed",
         "31.59",
         "168.0"
        ],
        [
         "8",
         "9.0",
         "Content Writing",
         "Toptal",
         "Intermediate",
         "USA",
         "Crypto",
         "233.0",
         "8446.0",
         "26.44",
         "80.06",
         "4.27",
         "46.0",
         "Fixed",
         "50.11",
         "396.0"
        ],
        [
         "9",
         "10.0",
         "Data Entry",
         "PeoplePerHour",
         "Beginner",
         "Middle East",
         "Mobile Banking",
         "156.0",
         "6608.0",
         "54.99",
         "85.4",
         "4.57",
         "52.0",
         "Hourly",
         "32.76",
         "160.0"
        ],
        [
         "10",
         "11.0",
         "App Development",
         "Fiverr",
         "Beginner",
         "Australia",
         "Crypto",
         "112.0",
         "5322.0",
         "17.16",
         "51.03",
         "3.24",
         "89.0",
         "Fixed",
         "12.75",
         "14.0"
        ],
        [
         "11",
         "12.0",
         "Customer Support",
         "Toptal",
         "Intermediate",
         "Australia",
         "Mobile Banking",
         "293.0",
         "7931.0",
         "50.09",
         "98.5",
         "3.82",
         "61.0",
         "Fixed",
         "29.04",
         "190.0"
        ],
        [
         "12",
         "13.0",
         "Customer Support",
         "Fiverr",
         "Intermediate",
         "Europe",
         "Mobile Banking",
         "180.0",
         "9033.0",
         "58.02",
         "91.62",
         "4.68",
         "13.0",
         "Fixed",
         "10.45",
         "14.0"
        ],
        [
         "13",
         "14.0",
         "Data Entry",
         "Freelancer",
         "Beginner",
         "Canada",
         "Bank Transfer",
         "290.0",
         "3797.0",
         "47.36",
         "60.62",
         "3.77",
         "89.0",
         "Hourly",
         "78.48",
         "286.0"
        ],
        [
         "14",
         "15.0",
         "App Development",
         "Freelancer",
         "Beginner",
         "UK",
         "Crypto",
         "245.0",
         "9347.0",
         "11.6",
         "59.09",
         "4.14",
         "40.0",
         "Hourly",
         "77.6",
         "362.0"
        ],
        [
         "15",
         "16.0",
         "Data Entry",
         "Freelancer",
         "Intermediate",
         "UK",
         "Bank Transfer",
         "149.0",
         "9332.0",
         "51.07",
         "59.17",
         "4.18",
         "61.0",
         "Hourly",
         "37.66",
         "411.0"
        ],
        [
         "16",
         "17.0",
         "Customer Support",
         "Toptal",
         "Expert",
         "UK",
         "Mobile Banking",
         "18.0",
         "1657.0",
         "49.55",
         "65.21",
         "3.37",
         "44.0",
         "Hourly",
         "60.99",
         "9.0"
        ],
        [
         "17",
         "18.0",
         "Customer Support",
         "Freelancer",
         "Intermediate",
         "Middle East",
         "PayPal",
         "279.0",
         "5124.0",
         "29.85",
         "76.24",
         "3.72",
         "62.0",
         "Hourly",
         "34.21",
         "56.0"
        ],
        [
         "18",
         "19.0",
         "Graphic Design",
         "PeoplePerHour",
         "Expert",
         "Asia",
         "Crypto",
         "75.0",
         "7203.0",
         "92.55",
         "71.6",
         "3.67",
         "44.0",
         "Hourly",
         "56.98",
         "198.0"
        ],
        [
         "19",
         "20.0",
         "Data Entry",
         "PeoplePerHour",
         "Beginner",
         "Canada",
         "Bank Transfer",
         "199.0",
         "6783.0",
         "44.69",
         "64.56",
         "3.05",
         "48.0",
         "Hourly",
         "66.38",
         "160.0"
        ],
        [
         "20",
         "21.0",
         "SEO",
         "Toptal",
         "Beginner",
         "USA",
         "PayPal",
         "15.0",
         "116.0",
         "87.09",
         "80.59",
         "3.05",
         "74.0",
         "Hourly",
         "76.27",
         "262.0"
        ],
        [
         "21",
         "22.0",
         "Data Entry",
         "Fiverr",
         "Expert",
         "UK",
         "Crypto",
         "110.0",
         "8050.0",
         "15.42",
         "56.97",
         "4.66",
         "59.0",
         "Fixed",
         "38.01",
         "388.0"
        ],
        [
         "22",
         "23.0",
         "Customer Support",
         "Upwork",
         "Intermediate",
         "USA",
         "Crypto",
         "262.0",
         "7695.0",
         "35.29",
         "64.61",
         "3.55",
         "57.0",
         "Hourly",
         "64.83",
         "473.0"
        ],
        [
         "23",
         "24.0",
         "Graphic Design",
         "Fiverr",
         "Beginner",
         "Canada",
         "Bank Transfer",
         "200.0",
         "9520.0",
         "21.75",
         "68.32",
         "4.04",
         "11.0",
         "Fixed",
         "28.61",
         "380.0"
        ],
        [
         "24",
         "25.0",
         "Graphic Design",
         "Fiverr",
         "Expert",
         "Middle East",
         "PayPal",
         "149.0",
         "4208.0",
         "43.8",
         "72.8",
         "3.6",
         "25.0",
         "Fixed",
         "79.32",
         "252.0"
        ],
        [
         "25",
         "26.0",
         "Content Writing",
         "Fiverr",
         "Intermediate",
         "Canada",
         "Bank Transfer",
         "224.0",
         "9055.0",
         "15.61",
         "89.26",
         "4.88",
         "61.0",
         "Hourly",
         "11.8",
         "118.0"
        ],
        [
         "26",
         "27.0",
         "App Development",
         "Fiverr",
         "Expert",
         "Europe",
         "Crypto",
         "178.0",
         "452.0",
         "46.9",
         "59.98",
         "3.52",
         "46.0",
         "Fixed",
         "52.25",
         "79.0"
        ],
        [
         "27",
         "28.0",
         "Digital Marketing",
         "Upwork",
         "Intermediate",
         "Asia",
         "Crypto",
         "220.0",
         "7975.0",
         "38.62",
         "75.71",
         "3.86",
         "54.0",
         "Fixed",
         "56.17",
         "123.0"
        ],
        [
         "28",
         "29.0",
         "Web Development",
         "Freelancer",
         "Intermediate",
         "UK",
         "Mobile Banking",
         "97.0",
         "4216.0",
         "26.21",
         "79.62",
         "4.75",
         "34.0",
         "Hourly",
         "58.16",
         "312.0"
        ],
        [
         "29",
         "30.0",
         "Web Development",
         "Fiverr",
         "Intermediate",
         "Middle East",
         "Crypto",
         "264.0",
         "2975.0",
         "66.01",
         "52.32",
         "4.68",
         "84.0",
         "Fixed",
         "18.43",
         "71.0"
        ],
        [
         "30",
         "31.0",
         "Data Entry",
         "PeoplePerHour",
         "Intermediate",
         "Europe",
         "Crypto",
         "67.0",
         "3043.0",
         "95.34",
         "80.38",
         "3.37",
         "7.0",
         "Hourly",
         "75.7",
         "469.0"
        ],
        [
         "31",
         "32.0",
         "Content Writing",
         "Toptal",
         "Expert",
         "UK",
         "PayPal",
         "33.0",
         "9328.0",
         "24.68",
         "58.53",
         "4.61",
         "62.0",
         "Fixed",
         "22.68",
         "481.0"
        ],
        [
         "32",
         "33.0",
         "Data Entry",
         "Toptal",
         "Expert",
         "Canada",
         "PayPal",
         "279.0",
         "821.0",
         "72.62",
         "53.25",
         "3.92",
         "57.0",
         "Fixed",
         "53.59",
         "167.0"
        ],
        [
         "33",
         "34.0",
         "Web Development",
         "PeoplePerHour",
         "Expert",
         "Canada",
         "Mobile Banking",
         "289.0",
         "7421.0",
         "75.53",
         "97.44",
         "3.97",
         "76.0",
         "Hourly",
         "25.59",
         "283.0"
        ],
        [
         "34",
         "35.0",
         "App Development",
         "Fiverr",
         "Expert",
         "Australia",
         "Mobile Banking",
         "74.0",
         "9911.0",
         "52.32",
         "98.28",
         "3.27",
         "5.0",
         "Fixed",
         "31.51",
         "493.0"
        ],
        [
         "35",
         "36.0",
         "Customer Support",
         "Upwork",
         "Expert",
         "Australia",
         "Mobile Banking",
         "283.0",
         "5763.0",
         "90.28",
         "90.42",
         "3.16",
         "76.0",
         "Fixed",
         "48.25",
         "35.0"
        ],
        [
         "36",
         "37.0",
         "App Development",
         "Freelancer",
         "Intermediate",
         "Canada",
         "Bank Transfer",
         "235.0",
         "8217.0",
         "96.81",
         "65.23",
         "4.46",
         "35.0",
         "Hourly",
         "39.2",
         "311.0"
        ],
        [
         "37",
         "38.0",
         "App Development",
         "Toptal",
         "Beginner",
         "Canada",
         "Bank Transfer",
         "259.0",
         "1606.0",
         "39.41",
         "54.88",
         "3.99",
         "84.0",
         "Hourly",
         "21.22",
         "174.0"
        ],
        [
         "38",
         "39.0",
         "Graphic Design",
         "Freelancer",
         "Beginner",
         "USA",
         "Mobile Banking",
         "176.0",
         "1201.0",
         "66.85",
         "84.21",
         "3.87",
         "37.0",
         "Fixed",
         "21.97",
         "198.0"
        ],
        [
         "39",
         "40.0",
         "Customer Support",
         "Upwork",
         "Expert",
         "Asia",
         "Bank Transfer",
         "184.0",
         "5364.0",
         "67.91",
         "72.01",
         "4.46",
         "60.0",
         "Fixed",
         "39.27",
         "115.0"
        ],
        [
         "40",
         "41.0",
         "Digital Marketing",
         "Toptal",
         "Expert",
         "USA",
         "Crypto",
         "268.0",
         "1267.0",
         "43.35",
         "56.1",
         "4.53",
         "65.0",
         "Hourly",
         "63.01",
         "423.0"
        ],
        [
         "41",
         "42.0",
         "Customer Support",
         "Freelancer",
         "Beginner",
         "Asia",
         "Mobile Banking",
         "187.0",
         "3994.0",
         "35.1",
         "74.76",
         "3.32",
         "16.0",
         "Fixed",
         "72.86",
         "314.0"
        ],
        [
         "42",
         "43.0",
         "Content Writing",
         "Upwork",
         "Intermediate",
         "Europe",
         "Mobile Banking",
         "209.0",
         "8089.0",
         "93.71",
         "51.72",
         "4.22",
         "30.0",
         "Hourly",
         "15.89",
         "426.0"
        ],
        [
         "43",
         "44.0",
         "Graphic Design",
         "Freelancer",
         "Expert",
         "Australia",
         "Bank Transfer",
         "253.0",
         "2092.0",
         "80.05",
         "95.47",
         "3.27",
         "73.0",
         "Hourly",
         "37.52",
         "219.0"
        ],
        [
         "44",
         "45.0",
         "Digital Marketing",
         "Fiverr",
         "Intermediate",
         "Australia",
         "PayPal",
         "217.0",
         "6353.0",
         "15.87",
         "62.94",
         "4.5",
         "42.0",
         "Hourly",
         "17.02",
         "378.0"
        ],
        [
         "45",
         "46.0",
         "Content Writing",
         "Upwork",
         "Beginner",
         "Canada",
         "Mobile Banking",
         "163.0",
         "8947.0",
         "16.39",
         "83.13",
         "4.31",
         "61.0",
         "Fixed",
         "11.16",
         "65.0"
        ],
        [
         "46",
         "47.0",
         "Content Writing",
         "Freelancer",
         "Beginner",
         "Canada",
         "Bank Transfer",
         "104.0",
         "2719.0",
         "92.64",
         "65.59",
         "4.91",
         "74.0",
         "Fixed",
         "56.32",
         "264.0"
        ],
        [
         "47",
         "48.0",
         "Web Development",
         "Fiverr",
         "Expert",
         "Europe",
         "Bank Transfer",
         "116.0",
         "2163.0",
         "12.73",
         "76.0",
         "3.14",
         "77.0",
         "Fixed",
         "52.17",
         "133.0"
        ],
        [
         "48",
         "49.0",
         "Graphic Design",
         "Fiverr",
         "Intermediate",
         "Middle East",
         "PayPal",
         "170.0",
         "3027.0",
         "70.4",
         "77.34",
         "3.11",
         "48.0",
         "Hourly",
         "21.41",
         "118.0"
        ],
        [
         "49",
         "50.0",
         "Content Writing",
         "Upwork",
         "Expert",
         "Middle East",
         "Mobile Banking",
         "40.0",
         "4428.0",
         "26.54",
         "59.24",
         "3.56",
         "62.0",
         "Fixed",
         "26.37",
         "121.0"
        ]
       ],
       "shape": {
        "columns": 15,
        "rows": 1950
       }
      },
      "text/html": [
       "<div>\n",
       "<style scoped>\n",
       "    .dataframe tbody tr th:only-of-type {\n",
       "        vertical-align: middle;\n",
       "    }\n",
       "\n",
       "    .dataframe tbody tr th {\n",
       "        vertical-align: top;\n",
       "    }\n",
       "\n",
       "    .dataframe thead th {\n",
       "        text-align: right;\n",
       "    }\n",
       "</style>\n",
       "<table border=\"1\" class=\"dataframe\">\n",
       "  <thead>\n",
       "    <tr style=\"text-align: right;\">\n",
       "      <th></th>\n",
       "      <th>freelancer_id</th>\n",
       "      <th>job_category</th>\n",
       "      <th>platform</th>\n",
       "      <th>experience_level</th>\n",
       "      <th>client_region</th>\n",
       "      <th>payment_method</th>\n",
       "      <th>job_completed</th>\n",
       "      <th>earnings_usd</th>\n",
       "      <th>hourly_rate</th>\n",
       "      <th>job_success_rate</th>\n",
       "      <th>client_rating</th>\n",
       "      <th>job_duration_days</th>\n",
       "      <th>project_type</th>\n",
       "      <th>rehire_rate</th>\n",
       "      <th>marketing_spend</th>\n",
       "    </tr>\n",
       "  </thead>\n",
       "  <tbody>\n",
       "    <tr>\n",
       "      <th>0</th>\n",
       "      <td>1.0</td>\n",
       "      <td>Web Development</td>\n",
       "      <td>Fiverr</td>\n",
       "      <td>Beginner</td>\n",
       "      <td>Asia</td>\n",
       "      <td>Mobile Banking</td>\n",
       "      <td>180.0</td>\n",
       "      <td>1620.0</td>\n",
       "      <td>95.79</td>\n",
       "      <td>68.73</td>\n",
       "      <td>3.18</td>\n",
       "      <td>1.0</td>\n",
       "      <td>Fixed</td>\n",
       "      <td>40.19</td>\n",
       "      <td>53.0</td>\n",
       "    </tr>\n",
       "    <tr>\n",
       "      <th>1</th>\n",
       "      <td>2.0</td>\n",
       "      <td>App Development</td>\n",
       "      <td>Fiverr</td>\n",
       "      <td>Beginner</td>\n",
       "      <td>Australia</td>\n",
       "      <td>Mobile Banking</td>\n",
       "      <td>218.0</td>\n",
       "      <td>9078.0</td>\n",
       "      <td>86.38</td>\n",
       "      <td>97.54</td>\n",
       "      <td>3.44</td>\n",
       "      <td>54.0</td>\n",
       "      <td>Fixed</td>\n",
       "      <td>36.53</td>\n",
       "      <td>486.0</td>\n",
       "    </tr>\n",
       "    <tr>\n",
       "      <th>2</th>\n",
       "      <td>3.0</td>\n",
       "      <td>Web Development</td>\n",
       "      <td>Fiverr</td>\n",
       "      <td>Beginner</td>\n",
       "      <td>UK</td>\n",
       "      <td>Crypto</td>\n",
       "      <td>27.0</td>\n",
       "      <td>3455.0</td>\n",
       "      <td>85.17</td>\n",
       "      <td>86.60</td>\n",
       "      <td>4.20</td>\n",
       "      <td>46.0</td>\n",
       "      <td>Hourly</td>\n",
       "      <td>74.05</td>\n",
       "      <td>489.0</td>\n",
       "    </tr>\n",
       "    <tr>\n",
       "      <th>3</th>\n",
       "      <td>4.0</td>\n",
       "      <td>Data Entry</td>\n",
       "      <td>PeoplePerHour</td>\n",
       "      <td>Intermediate</td>\n",
       "      <td>Asia</td>\n",
       "      <td>Bank Transfer</td>\n",
       "      <td>17.0</td>\n",
       "      <td>5577.0</td>\n",
       "      <td>14.37</td>\n",
       "      <td>79.93</td>\n",
       "      <td>4.47</td>\n",
       "      <td>41.0</td>\n",
       "      <td>Hourly</td>\n",
       "      <td>27.58</td>\n",
       "      <td>67.0</td>\n",
       "    </tr>\n",
       "    <tr>\n",
       "      <th>4</th>\n",
       "      <td>5.0</td>\n",
       "      <td>Digital Marketing</td>\n",
       "      <td>Upwork</td>\n",
       "      <td>Expert</td>\n",
       "      <td>Asia</td>\n",
       "      <td>Crypto</td>\n",
       "      <td>245.0</td>\n",
       "      <td>5898.0</td>\n",
       "      <td>99.37</td>\n",
       "      <td>57.80</td>\n",
       "      <td>5.00</td>\n",
       "      <td>41.0</td>\n",
       "      <td>Hourly</td>\n",
       "      <td>69.09</td>\n",
       "      <td>489.0</td>\n",
       "    </tr>\n",
       "    <tr>\n",
       "      <th>...</th>\n",
       "      <td>...</td>\n",
       "      <td>...</td>\n",
       "      <td>...</td>\n",
       "      <td>...</td>\n",
       "      <td>...</td>\n",
       "      <td>...</td>\n",
       "      <td>...</td>\n",
       "      <td>...</td>\n",
       "      <td>...</td>\n",
       "      <td>...</td>\n",
       "      <td>...</td>\n",
       "      <td>...</td>\n",
       "      <td>...</td>\n",
       "      <td>...</td>\n",
       "      <td>...</td>\n",
       "    </tr>\n",
       "    <tr>\n",
       "      <th>1945</th>\n",
       "      <td>1946.0</td>\n",
       "      <td>Graphic Design</td>\n",
       "      <td>Fiverr</td>\n",
       "      <td>Beginner</td>\n",
       "      <td>USA</td>\n",
       "      <td>Mobile Banking</td>\n",
       "      <td>143.0</td>\n",
       "      <td>6823.0</td>\n",
       "      <td>22.54</td>\n",
       "      <td>75.86</td>\n",
       "      <td>4.65</td>\n",
       "      <td>13.0</td>\n",
       "      <td>Hourly</td>\n",
       "      <td>26.55</td>\n",
       "      <td>133.0</td>\n",
       "    </tr>\n",
       "    <tr>\n",
       "      <th>1946</th>\n",
       "      <td>1947.0</td>\n",
       "      <td>SEO</td>\n",
       "      <td>Upwork</td>\n",
       "      <td>Intermediate</td>\n",
       "      <td>Middle East</td>\n",
       "      <td>Crypto</td>\n",
       "      <td>164.0</td>\n",
       "      <td>7942.0</td>\n",
       "      <td>77.20</td>\n",
       "      <td>72.01</td>\n",
       "      <td>3.29</td>\n",
       "      <td>34.0</td>\n",
       "      <td>Hourly</td>\n",
       "      <td>24.81</td>\n",
       "      <td>343.0</td>\n",
       "    </tr>\n",
       "    <tr>\n",
       "      <th>1947</th>\n",
       "      <td>1948.0</td>\n",
       "      <td>SEO</td>\n",
       "      <td>PeoplePerHour</td>\n",
       "      <td>Expert</td>\n",
       "      <td>UK</td>\n",
       "      <td>Bank Transfer</td>\n",
       "      <td>236.0</td>\n",
       "      <td>9838.0</td>\n",
       "      <td>24.64</td>\n",
       "      <td>57.37</td>\n",
       "      <td>4.67</td>\n",
       "      <td>38.0</td>\n",
       "      <td>Fixed</td>\n",
       "      <td>61.52</td>\n",
       "      <td>370.0</td>\n",
       "    </tr>\n",
       "    <tr>\n",
       "      <th>1948</th>\n",
       "      <td>1949.0</td>\n",
       "      <td>SEO</td>\n",
       "      <td>Freelancer</td>\n",
       "      <td>Intermediate</td>\n",
       "      <td>Europe</td>\n",
       "      <td>Bank Transfer</td>\n",
       "      <td>152.0</td>\n",
       "      <td>4492.0</td>\n",
       "      <td>71.07</td>\n",
       "      <td>66.41</td>\n",
       "      <td>4.08</td>\n",
       "      <td>70.0</td>\n",
       "      <td>Fixed</td>\n",
       "      <td>32.40</td>\n",
       "      <td>32.0</td>\n",
       "    </tr>\n",
       "    <tr>\n",
       "      <th>1949</th>\n",
       "      <td>1950.0</td>\n",
       "      <td>Graphic Design</td>\n",
       "      <td>Freelancer</td>\n",
       "      <td>Expert</td>\n",
       "      <td>Middle East</td>\n",
       "      <td>PayPal</td>\n",
       "      <td>247.0</td>\n",
       "      <td>9297.0</td>\n",
       "      <td>22.22</td>\n",
       "      <td>71.70</td>\n",
       "      <td>4.69</td>\n",
       "      <td>68.0</td>\n",
       "      <td>Fixed</td>\n",
       "      <td>45.42</td>\n",
       "      <td>236.0</td>\n",
       "    </tr>\n",
       "  </tbody>\n",
       "</table>\n",
       "<p>1950 rows × 15 columns</p>\n",
       "</div>"
      ],
      "text/plain": [
       "      freelancer_id       job_category       platform experience_level  \\\n",
       "0               1.0    Web Development         Fiverr         Beginner   \n",
       "1               2.0    App Development         Fiverr         Beginner   \n",
       "2               3.0    Web Development         Fiverr         Beginner   \n",
       "3               4.0         Data Entry  PeoplePerHour     Intermediate   \n",
       "4               5.0  Digital Marketing         Upwork           Expert   \n",
       "...             ...                ...            ...              ...   \n",
       "1945         1946.0     Graphic Design         Fiverr         Beginner   \n",
       "1946         1947.0                SEO         Upwork     Intermediate   \n",
       "1947         1948.0                SEO  PeoplePerHour           Expert   \n",
       "1948         1949.0                SEO     Freelancer     Intermediate   \n",
       "1949         1950.0     Graphic Design     Freelancer           Expert   \n",
       "\n",
       "     client_region  payment_method  job_completed  earnings_usd  hourly_rate  \\\n",
       "0             Asia  Mobile Banking          180.0        1620.0        95.79   \n",
       "1        Australia  Mobile Banking          218.0        9078.0        86.38   \n",
       "2               UK          Crypto           27.0        3455.0        85.17   \n",
       "3             Asia   Bank Transfer           17.0        5577.0        14.37   \n",
       "4             Asia          Crypto          245.0        5898.0        99.37   \n",
       "...            ...             ...            ...           ...          ...   \n",
       "1945           USA  Mobile Banking          143.0        6823.0        22.54   \n",
       "1946   Middle East          Crypto          164.0        7942.0        77.20   \n",
       "1947            UK   Bank Transfer          236.0        9838.0        24.64   \n",
       "1948        Europe   Bank Transfer          152.0        4492.0        71.07   \n",
       "1949   Middle East          PayPal          247.0        9297.0        22.22   \n",
       "\n",
       "      job_success_rate  client_rating  job_duration_days project_type  \\\n",
       "0                68.73           3.18                1.0        Fixed   \n",
       "1                97.54           3.44               54.0        Fixed   \n",
       "2                86.60           4.20               46.0       Hourly   \n",
       "3                79.93           4.47               41.0       Hourly   \n",
       "4                57.80           5.00               41.0       Hourly   \n",
       "...                ...            ...                ...          ...   \n",
       "1945             75.86           4.65               13.0       Hourly   \n",
       "1946             72.01           3.29               34.0       Hourly   \n",
       "1947             57.37           4.67               38.0        Fixed   \n",
       "1948             66.41           4.08               70.0        Fixed   \n",
       "1949             71.70           4.69               68.0        Fixed   \n",
       "\n",
       "      rehire_rate  marketing_spend  \n",
       "0           40.19             53.0  \n",
       "1           36.53            486.0  \n",
       "2           74.05            489.0  \n",
       "3           27.58             67.0  \n",
       "4           69.09            489.0  \n",
       "...           ...              ...  \n",
       "1945        26.55            133.0  \n",
       "1946        24.81            343.0  \n",
       "1947        61.52            370.0  \n",
       "1948        32.40             32.0  \n",
       "1949        45.42            236.0  \n",
       "\n",
       "[1950 rows x 15 columns]"
      ]
     },
     "execution_count": 101,
     "metadata": {},
     "output_type": "execute_result"
    }
   ],
   "source": [
    "df = pd.DataFrame()\n",
    "with psycopg2.connect(\n",
    "    \"dbname=db user=user password=passw host=127.0.0.1 port=5440\"\n",
    ") as conn:\n",
    "    df = pd.read_sql_query(\"Select * FROM freelancers\", conn)\n",
    "df\n"
   ]
  },
  {
   "cell_type": "markdown",
   "id": "fc69cf0f",
   "metadata": {},
   "source": [
    "Вытащим колонки и типы данных"
   ]
  },
  {
   "cell_type": "code",
   "execution_count": 102,
   "id": "ed1f2120",
   "metadata": {},
   "outputs": [
    {
     "data": {
      "text/plain": [
       "(Index(['freelancer_id', 'job_category', 'platform', 'experience_level',\n",
       "        'client_region', 'payment_method', 'job_completed', 'earnings_usd',\n",
       "        'hourly_rate', 'job_success_rate', 'client_rating', 'job_duration_days',\n",
       "        'project_type', 'rehire_rate', 'marketing_spend'],\n",
       "       dtype='object'),\n",
       " Index(['freelancer_id', 'job_completed', 'earnings_usd', 'hourly_rate',\n",
       "        'job_success_rate', 'client_rating', 'job_duration_days', 'rehire_rate',\n",
       "        'marketing_spend'],\n",
       "       dtype='object'),\n",
       " Index(['job_category', 'platform', 'experience_level', 'client_region',\n",
       "        'payment_method', 'project_type'],\n",
       "       dtype='object'))"
      ]
     },
     "execution_count": 102,
     "metadata": {},
     "output_type": "execute_result"
    }
   ],
   "source": [
    "columns = df.columns\n",
    "numeric_types = df.select_dtypes(include=np.number).columns\n",
    "non_numeric_types = df.select_dtypes(exclude=np.number).columns\n",
    "\n",
    "(columns, numeric_types, non_numeric_types)"
   ]
  },
  {
   "cell_type": "markdown",
   "id": "4cf65966",
   "metadata": {},
   "source": [
    "Из анализа датафрейма выше видно, что в текстовых колонках число уникальных данных мало (5 - 8).\n",
    "Можно вытянуть их отдельно для каждой колонки. "
   ]
  },
  {
   "cell_type": "code",
   "execution_count": 103,
   "id": "199ad1c0",
   "metadata": {},
   "outputs": [],
   "source": [
    "unique = {}"
   ]
  },
  {
   "cell_type": "code",
   "execution_count": 104,
   "id": "d16a4bb5",
   "metadata": {},
   "outputs": [
    {
     "data": {
      "text/plain": [
       "{'job_category': ['Web Development',\n",
       "  'App Development',\n",
       "  'Data Entry',\n",
       "  'Digital Marketing',\n",
       "  'Customer Support',\n",
       "  'Content Writing',\n",
       "  'Graphic Design',\n",
       "  'SEO'],\n",
       " 'platform': ['Fiverr', 'PeoplePerHour', 'Upwork', 'Toptal', 'Freelancer'],\n",
       " 'experience_level': ['Beginner', 'Intermediate', 'Expert'],\n",
       " 'client_region': ['Asia',\n",
       "  'Australia',\n",
       "  'UK',\n",
       "  'Europe',\n",
       "  'USA',\n",
       "  'Middle East',\n",
       "  'Canada'],\n",
       " 'payment_method': ['Mobile Banking', 'Crypto', 'Bank Transfer', 'PayPal'],\n",
       " 'project_type': ['Fixed', 'Hourly']}"
      ]
     },
     "execution_count": 104,
     "metadata": {},
     "output_type": "execute_result"
    }
   ],
   "source": [
    "df_non_numeric_uniq = df.loc[:, non_numeric_types]\n",
    "for column in df_non_numeric_uniq:\n",
    "    unique[column] = list(df_non_numeric_uniq[column].unique())\n",
    "unique"
   ]
  },
  {
   "cell_type": "markdown",
   "id": "fcc4d702",
   "metadata": {},
   "source": [
    "После получения вариаций значений для колонок, получим минмумы и максимумы по колонкам числовым\n",
    "Это даст нейросети больше понимания, в каких диапазонах и с какими данными она работает"
   ]
  },
  {
   "cell_type": "code",
   "execution_count": 105,
   "id": "c9bae0ae",
   "metadata": {},
   "outputs": [],
   "source": [
    "diapazones = {}"
   ]
  },
  {
   "cell_type": "code",
   "execution_count": 106,
   "id": "821c81ed",
   "metadata": {},
   "outputs": [
    {
     "data": {
      "text/plain": [
       "{'freelancer_id': {'min': 1, 'max': 1950},\n",
       " 'job_completed': {'min': 5, 'max': 299},\n",
       " 'earnings_usd': {'min': 51, 'max': 9991},\n",
       " 'hourly_rate': {'min': 5, 'max': 99},\n",
       " 'job_success_rate': {'min': 50, 'max': 99},\n",
       " 'client_rating': {'min': 3, 'max': 5},\n",
       " 'job_duration_days': {'min': 1, 'max': 89},\n",
       " 'rehire_rate': {'min': 10, 'max': 79},\n",
       " 'marketing_spend': {'min': 0, 'max': 499}}"
      ]
     },
     "execution_count": 106,
     "metadata": {},
     "output_type": "execute_result"
    }
   ],
   "source": [
    "df_numeric_diapazones = df.loc[:, numeric_types]\n",
    "for column in df_numeric_diapazones:\n",
    "    diapazones[column] = {'min': int(np.min(df_numeric_diapazones[column])),\n",
    "                          \t\t\t 'max': int(np.max(df_numeric_diapazones[column]))}\n",
    "diapazones"
   ]
  },
  {
   "cell_type": "markdown",
   "id": "f05d2dfc",
   "metadata": {},
   "source": [
    "Думаю, что к этим данным не помешает описание. Цейросети, как и человеку, нужен контекст, с которым она будет работать.\n",
    "\n",
    "### Dataset Features\n",
    "| Column Name | Description | Data Type | Example Values |\n",
    "|-------------|-------------|-----------|----------------|\n",
    "| Freelancer_ID | Unique identifier for each freelancer record | integer | 1, 2, 3 |\n",
    "| Job_Category | Primary classification of freelance work performed | string | Web Development, Data Entry, Content Writing |\n",
    "| Platform | Freelance marketplace where work was performed | string | Fiverr, Upwork, Toptal, Freelancer, PeoplePerHour |\n",
    "| Experience_Level | Freelancer's professional experience tier | string | Beginner, Intermediate, Expert |\n",
    "| Client_Region | Geographical location of the client | string | Asia, Europe, USA, Canada, UK, Australia, Middle East |\n",
    "| Payment_Method | Method used for financial transactions | string | Bank Transfer, PayPal, Mobile Banking, Crypto |\n",
    "| Job_Completed | Number of projects successfully completed | integer | 180, 218, 27 |\n",
    "| Earnings_USD | Total earnings in US Dollars | float | 1620, 9078, 3455 |\n",
    "| Hourly_Rate | Freelancer's hourly compensation rate in USD | float | 95.79, 86.38, 85.17 |\n",
    "| Job_Success_Rate | Percentage of successful job completions | float | 68.73, 97.54, 86.6 |\n",
    "| Client_Rating | Average rating given by clients (1.0-5.0 scale) | float | 3.18, 3.44, 4.2 |\n",
    "| Job_Duration_Days | Average project timeline in days | integer | 1, 54, 46 |\n",
    "| Project_Type | Classification of work arrangement | string | Fixed, Hourly |\n",
    "| Rehire_Rate | Percentage of clients who rehire the freelancer | float | 40.19, 36.53, 74.05 |\n",
    "| Marketing_Spend | Amount invested in platform promotion in USD | integer | 53, 486, 489 |"
   ]
  },
  {
   "cell_type": "markdown",
   "id": "247aa40f",
   "metadata": {},
   "source": [
    "Хорошо, что хорошие авторы kaggle дают хорошее описание своих фич) а ещё чистые данные :)"
   ]
  },
  {
   "cell_type": "markdown",
   "id": "acefff7e",
   "metadata": {},
   "source": [
    "Не вижу смысла в векторном представлении этих данных по описанию и храниню их в векторной базе по типу Chroma в эмбеддингах. Запишем эти описания в поля description и подадим на вход вместе с остальным контекстом"
   ]
  },
  {
   "cell_type": "code",
   "execution_count": 107,
   "id": "66b9a696",
   "metadata": {},
   "outputs": [],
   "source": [
    "feach_descriptions = {\n",
    "\t\"Freelancer_ID\":\"Unique identifier for each freelancer record \",\n",
    "    \"Job_Category\":\"Primary classification of freelance work performed\",\n",
    "    \"Platform\":\"Freelance marketplace where work was performed\",\n",
    "    \"Experience_Level\": \"Freelancer's professional experience tier\",\n",
    "    \"Client_Region\": \" Geographical location of the client \",\n",
    "    \"Payment_Method\": \"Method used for financial transactions\",\n",
    "    \"Job_Completed\": \"Number of projects successfully completed\",\n",
    "    \"Earnings_USD\": \"Total earnings in US Dollars\",\n",
    "    \"Hourly_Rate \": \"Freelancer's hourly compensation rate in USD\",\n",
    "    \"Job_Success_Rate\": \"Percentage of successful job completions\",\n",
    "    \"Client_Rating\": \"Average rating given by clients (1.0-5.0 scale)\",\n",
    "    \"Job_Duration_Days\": \"Average project timeline in days\",\n",
    "    \"Project_Type\": \"Classification of work arrangement\",\n",
    "    \"Rehire_Rate\": \"Percentage of clients who rehire the freelancer\",\n",
    "    \"Marketing_Spend\": \"Amount invested in platform promotion in USD\"\n",
    "}"
   ]
  },
  {
   "cell_type": "markdown",
   "id": "9c87e35d",
   "metadata": {},
   "source": [
    "Теперь добавим имя таблицы"
   ]
  },
  {
   "cell_type": "code",
   "execution_count": 108,
   "id": "a9075244",
   "metadata": {},
   "outputs": [],
   "source": [
    "table_name = {\n",
    "    'table_name': 'freelancers',\n",
    "}"
   ]
  },
  {
   "cell_type": "markdown",
   "id": "ef1608bb",
   "metadata": {},
   "source": [
    "СОберём из этого системный контекстный json файл"
   ]
  },
  {
   "cell_type": "code",
   "execution_count": 109,
   "id": "6c5b55c6",
   "metadata": {},
   "outputs": [],
   "source": [
    "context = [\n",
    "    table_name,\n",
    "    feach_descriptions,\n",
    "    unique,\n",
    "    diapazones\n",
    "]"
   ]
  },
  {
   "cell_type": "code",
   "execution_count": 110,
   "id": "a963c03d",
   "metadata": {},
   "outputs": [],
   "source": [
    "import json\n",
    "with open(\"context.json\", 'w') as f:\n",
    "\tjson.dump(context, f)"
   ]
  },
  {
   "cell_type": "markdown",
   "id": "9a5d9c6c",
   "metadata": {},
   "source": [
    "## Попробуем сделать запрос из тестовых вопросов с контекстом"
   ]
  },
  {
   "cell_type": "markdown",
   "id": "1d6a85cf",
   "metadata": {},
   "source": [
    "Напишем системный промпт"
   ]
  },
  {
   "cell_type": "code",
   "execution_count": 111,
   "id": "117d593c",
   "metadata": {},
   "outputs": [
    {
     "data": {
      "text/plain": [
       "{'role': 'system',\n",
       " 'content': 'Ты - Аналитик данных и отлично знаешь PostgreSQL. Твоя задача - создать для пользователя оптмиальный SQL зпрос для СУБД PostgreSQL.\\n    Таблица, с которой ты работаешь, содержит следующе данные:\\n    [{\\'table_name\\': \\'freelancers\\'}, {\\'Freelancer_ID\\': \\'Unique identifier for each freelancer record \\', \\'Job_Category\\': \\'Primary classification of freelance work performed\\', \\'Platform\\': \\'Freelance marketplace where work was performed\\', \\'Experience_Level\\': \"Freelancer\\'s professional experience tier\", \\'Client_Region\\': \\' Geographical location of the client \\', \\'Payment_Method\\': \\'Method used for financial transactions\\', \\'Job_Completed\\': \\'Number of projects successfully completed\\', \\'Earnings_USD\\': \\'Total earnings in US Dollars\\', \\'Hourly_Rate \\': \"Freelancer\\'s hourly compensation rate in USD\", \\'Job_Success_Rate\\': \\'Percentage of successful job completions\\', \\'Client_Rating\\': \\'Average rating given by clients (1.0-5.0 scale)\\', \\'Job_Duration_Days\\': \\'Average project timeline in days\\', \\'Project_Type\\': \\'Classification of work arrangement\\', \\'Rehire_Rate\\': \\'Percentage of clients who rehire the freelancer\\', \\'Marketing_Spend\\': \\'Amount invested in platform promotion in USD\\'}, {\\'job_category\\': [\\'Web Development\\', \\'App Development\\', \\'Data Entry\\', \\'Digital Marketing\\', \\'Customer Support\\', \\'Content Writing\\', \\'Graphic Design\\', \\'SEO\\'], \\'platform\\': [\\'Fiverr\\', \\'PeoplePerHour\\', \\'Upwork\\', \\'Toptal\\', \\'Freelancer\\'], \\'experience_level\\': [\\'Beginner\\', \\'Intermediate\\', \\'Expert\\'], \\'client_region\\': [\\'Asia\\', \\'Australia\\', \\'UK\\', \\'Europe\\', \\'USA\\', \\'Middle East\\', \\'Canada\\'], \\'payment_method\\': [\\'Mobile Banking\\', \\'Crypto\\', \\'Bank Transfer\\', \\'PayPal\\'], \\'project_type\\': [\\'Fixed\\', \\'Hourly\\']}, {\\'freelancer_id\\': {\\'min\\': 1, \\'max\\': 1950}, \\'job_completed\\': {\\'min\\': 5, \\'max\\': 299}, \\'earnings_usd\\': {\\'min\\': 51, \\'max\\': 9991}, \\'hourly_rate\\': {\\'min\\': 5, \\'max\\': 99}, \\'job_success_rate\\': {\\'min\\': 50, \\'max\\': 99}, \\'client_rating\\': {\\'min\\': 3, \\'max\\': 5}, \\'job_duration_days\\': {\\'min\\': 1, \\'max\\': 89}, \\'rehire_rate\\': {\\'min\\': 10, \\'max\\': 79}, \\'marketing_spend\\': {\\'min\\': 0, \\'max\\': 499}}]\\n\\tНе придумывай данные, используй только приведённую структуру. Существующие имена таблиц и переменных.\\n    На выход дай ТОЛЬКО SQL - запрос к таблице. Запрос выводи текстом без кавычек и без форматирования.\\n\\t'}"
      ]
     },
     "execution_count": 111,
     "metadata": {},
     "output_type": "execute_result"
    }
   ],
   "source": [
    "system_prompt = {\n",
    "    \"role\":\"system\",\n",
    "    \"content\": f\"\"\"Ты - Аналитик данных и отлично знаешь PostgreSQL. Твоя задача - создать для пользователя оптмиальный SQL зпрос для СУБД PostgreSQL.\n",
    "    Таблица, с которой ты работаешь, содержит следующе данные:\n",
    "    {context}\n",
    "\tНе придумывай данные, используй только приведённую структуру. Существующие имена таблиц и переменных.\n",
    "    На выход дай ТОЛЬКО SQL - запрос к таблице. Запрос выводи текстом без кавычек и без форматирования.\n",
    "\t\"\"\"\n",
    "}\n",
    "system_prompt"
   ]
  },
  {
   "cell_type": "markdown",
   "id": "ee70def2",
   "metadata": {},
   "source": [
    "Минимальный пул вопросов, на которые предстоит ответить\n"
   ]
  },
  {
   "cell_type": "markdown",
   "id": "09ee82cb",
   "metadata": {},
   "source": [
    "\t- Насколько выше доход у фрилансеров, принимающих оплату в криптовалюте, по сравнению с другими способами оплаты?  \n",
    "\t- Как распределяется доход фрилансеров в зависимости от региона проживания?  \n",
    "\t- Какой процент фрилансеров, считающих себя экспертами, выполнил менее 100 проектов?\n"
   ]
  },
  {
   "cell_type": "code",
   "execution_count": 130,
   "id": "e41c1a5f",
   "metadata": {},
   "outputs": [
    {
     "name": "stdout",
     "output_type": "stream",
     "text": [
      "SELECT \n",
      "AVG(CASE WHEN Payment_Method = 'Crypto' THEN Earnings_USD END) AS avg_crypto_earnings,\n",
      "AVG(CASE WHEN Payment_Method != 'Crypto' THEN Earnings_USD END) AS avg_non_crypto_earnings,\n",
      "AVG(CASE WHEN Payment_Method = 'Crypto' THEN Earnings_USD END) - AVG(CASE WHEN Payment_Method != 'Crypto' THEN Earnings_USD END) AS earnings_difference\n",
      "FROM freelancers\n",
      "WHERE Payment_Method IS NOT NULL;\n"
     ]
    }
   ],
   "source": [
    "# модель deepseek оказалась слишком медленной. В качестве альтернативы выбрана qwen/qwen3-30b-a3b:free\n",
    "completion = client.chat.completions.create(\n",
    "  model=\"qwen/qwen3-30b-a3b:free\",\n",
    "  messages=[\n",
    "    system_prompt,\n",
    "    {\n",
    "      \"role\": \"user\",\n",
    "      \"content\": \"Насколько выше доход у фрилансеров, принимающих оплату в криптовалюте, по сравнению с другими способами оплаты? \"\n",
    "    }\n",
    "  ],\n",
    "  temperature = 0.7\n",
    ")\n",
    "response_message = completion.choices[0].message.content\n",
    "print(response_message )"
   ]
  },
  {
   "cell_type": "markdown",
   "id": "8dfb5971",
   "metadata": {},
   "source": [
    "После получения запроса - распарсим его"
   ]
  },
  {
   "cell_type": "code",
   "execution_count": 131,
   "id": "21991ee8",
   "metadata": {},
   "outputs": [
    {
     "data": {
      "text/plain": [
       "\"SELECT \\nAVG(CASE WHEN Payment_Method = 'Crypto' THEN Earnings_USD END) AS avg_crypto_earnings,\\nAVG(CASE WHEN Payment_Method != 'Crypto' THEN Earnings_USD END) AS avg_non_crypto_earnings,\\nAVG(CASE WHEN Payment_Method = 'Crypto' THEN Earnings_USD END) - AVG(CASE WHEN Payment_Method != 'Crypto' THEN Earnings_USD END) AS earnings_difference\\nFROM freelancers\\nWHERE Payment_Method IS NOT NULL;\""
      ]
     },
     "execution_count": 131,
     "metadata": {},
     "output_type": "execute_result"
    }
   ],
   "source": [
    "sql_query = response_message.strip()\n",
    "sql_query"
   ]
  },
  {
   "cell_type": "code",
   "execution_count": 132,
   "id": "a1cab950",
   "metadata": {},
   "outputs": [
    {
     "name": "stderr",
     "output_type": "stream",
     "text": [
      "/tmp/ipykernel_20865/4133764436.py:5: UserWarning: pandas only supports SQLAlchemy connectable (engine/connection) or database string URI or sqlite3 DBAPI2 connection. Other DBAPI2 objects are not tested. Please consider using SQLAlchemy.\n",
      "  result = pd.read_sql_query(sql_query, conn)\n"
     ]
    },
    {
     "data": {
      "application/vnd.microsoft.datawrangler.viewer.v0+json": {
       "columns": [
        {
         "name": "index",
         "rawType": "int64",
         "type": "integer"
        },
        {
         "name": "avg_crypto_earnings",
         "rawType": "float64",
         "type": "float"
        },
        {
         "name": "avg_non_crypto_earnings",
         "rawType": "float64",
         "type": "float"
        },
        {
         "name": "earnings_difference",
         "rawType": "float64",
         "type": "float"
        }
       ],
       "ref": "55559077-a876-4568-9234-107273558c16",
       "rows": [
        [
         "0",
         "5139.301556420233",
         "4973.993036211699",
         "165.3085202085343"
        ]
       ],
       "shape": {
        "columns": 3,
        "rows": 1
       }
      },
      "text/html": [
       "<div>\n",
       "<style scoped>\n",
       "    .dataframe tbody tr th:only-of-type {\n",
       "        vertical-align: middle;\n",
       "    }\n",
       "\n",
       "    .dataframe tbody tr th {\n",
       "        vertical-align: top;\n",
       "    }\n",
       "\n",
       "    .dataframe thead th {\n",
       "        text-align: right;\n",
       "    }\n",
       "</style>\n",
       "<table border=\"1\" class=\"dataframe\">\n",
       "  <thead>\n",
       "    <tr style=\"text-align: right;\">\n",
       "      <th></th>\n",
       "      <th>avg_crypto_earnings</th>\n",
       "      <th>avg_non_crypto_earnings</th>\n",
       "      <th>earnings_difference</th>\n",
       "    </tr>\n",
       "  </thead>\n",
       "  <tbody>\n",
       "    <tr>\n",
       "      <th>0</th>\n",
       "      <td>5139.301556</td>\n",
       "      <td>4973.993036</td>\n",
       "      <td>165.30852</td>\n",
       "    </tr>\n",
       "  </tbody>\n",
       "</table>\n",
       "</div>"
      ],
      "text/plain": [
       "   avg_crypto_earnings  avg_non_crypto_earnings  earnings_difference\n",
       "0          5139.301556              4973.993036            165.30852"
      ]
     },
     "execution_count": 132,
     "metadata": {},
     "output_type": "execute_result"
    }
   ],
   "source": [
    "result = pd.DataFrame()\n",
    "with psycopg2.connect(\n",
    "    \"dbname=db user=user password=passw host=127.0.0.1 port=5440\"\n",
    ") as conn:\n",
    "    result = pd.read_sql_query(sql_query, conn)\n",
    "result\n"
   ]
  },
  {
   "cell_type": "code",
   "execution_count": 133,
   "id": "39f645a4",
   "metadata": {},
   "outputs": [],
   "source": [
    "# приведём результат в json\n",
    "result_json = result.to_json(orient='records', force_ascii=False)"
   ]
  },
  {
   "cell_type": "markdown",
   "id": "129a5dca",
   "metadata": {},
   "source": [
    "Отлично! После реглуировки температуры мы получаем примерно нужный нам результат.\n",
    "Теперь нужно понять, как быть с полученными данными. Они динамические и алгоритмами будет очень трудно с ними что то делать.\n",
    "Снова используем нейросеть. Но уже с другим контекстом. \n",
    "\n",
    "На этот раз дадим ей подумать над агрегированными данными и выдать строковый ответ."
   ]
  },
  {
   "cell_type": "code",
   "execution_count": null,
   "id": "bfd58625",
   "metadata": {},
   "outputs": [],
   "source": [
    "post_promt_context = {\n",
    "    \"role\": \"system\",\n",
    "    \"content\": f\"\"\"Как аналитик, посмотри на данные и сделай выводы. Вывод опиши коротко. Вывод дай без форматирования. Только по данным, которые ты видишь в таблице.\"\"\"\n",
    "}"
   ]
  },
  {
   "cell_type": "code",
   "execution_count": 135,
   "id": "13841ba4",
   "metadata": {},
   "outputs": [
    {
     "name": "stdout",
     "output_type": "stream",
     "text": [
      "Средние доходы от криптовалюты (5139.30) превышают средние доходы от не-криптовалютных источников (4973.99) на 165.31.\n"
     ]
    }
   ],
   "source": [
    "completion = client.chat.completions.create(\n",
    "  model=\"qwen/qwen3-30b-a3b:free\",\n",
    "  messages=[\n",
    "    post_promt_context,\n",
    "    {\n",
    "      \"role\": \"user\",\n",
    "      \"content\": result_json\n",
    "    }\n",
    "  ],\n",
    "  temperature = 0.5\n",
    ")\n",
    "response_message = completion.choices[0].message.content\n",
    "print(response_message )"
   ]
  },
  {
   "cell_type": "markdown",
   "id": "8dcd5cbe",
   "metadata": {},
   "source": [
    "Нейросеть хорошо показала себя на первом вопросе! Теперь, попробуем остальные вопросы"
   ]
  },
  {
   "cell_type": "markdown",
   "id": "540ea349",
   "metadata": {},
   "source": [
    "Для начала - оформим все звпросы в виде функций"
   ]
  },
  {
   "cell_type": "code",
   "execution_count": 137,
   "id": "08e80165",
   "metadata": {},
   "outputs": [],
   "source": [
    "async def input_prompt(question):\n",
    "\tcompletion = client.chat.completions.create(\n",
    "\tmodel=\"qwen/qwen3-30b-a3b:free\",\n",
    "\tmessages=[\n",
    "\t\tsystem_prompt,\n",
    "\t\t{\n",
    "\t\t\"role\": \"user\",\n",
    "\t\t\"content\": question\n",
    "\t\t}\n",
    "\t],\n",
    "\ttemperature = 0.7\n",
    "\t)\n",
    "\treturn completion.choices[0].message.content\n",
    "\n",
    "async def hidden_prompt(result_json):\n",
    "\tcompletion = client.chat.completions.create(\n",
    "\tmodel=\"qwen/qwen3-30b-a3b:free\",\n",
    "\tmessages=[\n",
    "\t\tpost_promt_context,\n",
    "\t\t{\n",
    "\t\t\"role\": \"user\",\n",
    "\t\t\"content\": result_json\n",
    "\t\t}\n",
    "\t],\n",
    "\ttemperature = 0.5\n",
    "\t)\n",
    "\treturn completion.choices[0].message.content\n",
    "\n",
    "async def query_result(query):\n",
    "\tsql_query = query.strip()\n",
    "\tresult = pd.DataFrame()\n",
    "\twith psycopg2.connect(\n",
    "\t\t\"dbname=db user=user password=passw host=127.0.0.1 port=5440\"\n",
    "\t) as conn:\n",
    "\t\tresult = pd.read_sql_query(sql_query, conn)\n",
    "\treturn result"
   ]
  },
  {
   "cell_type": "code",
   "execution_count": 138,
   "id": "a9752055",
   "metadata": {},
   "outputs": [
    {
     "name": "stderr",
     "output_type": "stream",
     "text": [
      "/tmp/ipykernel_20865/907882974.py:35: UserWarning: pandas only supports SQLAlchemy connectable (engine/connection) or database string URI or sqlite3 DBAPI2 connection. Other DBAPI2 objects are not tested. Please consider using SQLAlchemy.\n",
      "  result = pd.read_sql_query(sql_query, conn)\n",
      "/tmp/ipykernel_20865/907882974.py:35: UserWarning: pandas only supports SQLAlchemy connectable (engine/connection) or database string URI or sqlite3 DBAPI2 connection. Other DBAPI2 objects are not tested. Please consider using SQLAlchemy.\n",
      "  result = pd.read_sql_query(sql_query, conn)\n"
     ]
    },
    {
     "data": {
      "application/vnd.microsoft.datawrangler.viewer.v0+json": {
       "columns": [
        {
         "name": "index",
         "rawType": "int64",
         "type": "integer"
        },
        {
         "name": "question",
         "rawType": "object",
         "type": "string"
        },
        {
         "name": "query",
         "rawType": "object",
         "type": "string"
        },
        {
         "name": "result",
         "rawType": "object",
         "type": "unknown"
        },
        {
         "name": "response",
         "rawType": "object",
         "type": "string"
        }
       ],
       "ref": "fb87fb98-394e-4b81-9ee8-289218200749",
       "rows": [
        [
         "0",
         "Как распределяется доход фрилансеров в зависимости от региона проживания?",
         "SELECT Client_Region, AVG(Earnings_USD) AS Average_Earnings FROM freelancers GROUP BY Client_Region ORDER BY Average_Earnings DESC;",
         "[{'client_region': 'Canada', 'average_earnings': 5350.134146341464}, {'client_region': 'Asia', 'average_earnings': 5172.284697508897}, {'client_region': 'UK', 'average_earnings': 5047.089285714285}, {'client_region': 'Australia', 'average_earnings': 4966.097315436242}, {'client_region': 'Europe', 'average_earnings': 4890.530534351145}, {'client_region': 'USA', 'average_earnings': 4872.948630136986}, {'client_region': 'Middle East', 'average_earnings': 4870.817869415808}]",
         "Средние доходы клиентов по регионам: Canada (5350) — самый высокий, затем Asia (5172), UK (5047), Australia (4966), Europe (4891), USA (4873), Middle East (4871) — самый низкий. Разница между лидером и аутсайдером составляет ~48."
        ],
        [
         "1",
         "Какой процент фрилансеров, считающих себя экспертами, выполнил менее 100 проектов?",
         "SELECT (COUNT(*) * 100.0 / (SELECT COUNT(*) FROM freelancers WHERE Experience_Level = 'Expert')) AS percentage FROM freelancers WHERE Experience_Level = 'Expert' AND Job_Completed < 100;",
         "[{'percentage': 33.853354134165365}]",
         "Данные показывают значение процента в размере 33.85%."
        ]
       ],
       "shape": {
        "columns": 4,
        "rows": 2
       }
      },
      "text/html": [
       "<div>\n",
       "<style scoped>\n",
       "    .dataframe tbody tr th:only-of-type {\n",
       "        vertical-align: middle;\n",
       "    }\n",
       "\n",
       "    .dataframe tbody tr th {\n",
       "        vertical-align: top;\n",
       "    }\n",
       "\n",
       "    .dataframe thead th {\n",
       "        text-align: right;\n",
       "    }\n",
       "</style>\n",
       "<table border=\"1\" class=\"dataframe\">\n",
       "  <thead>\n",
       "    <tr style=\"text-align: right;\">\n",
       "      <th></th>\n",
       "      <th>question</th>\n",
       "      <th>query</th>\n",
       "      <th>result</th>\n",
       "      <th>response</th>\n",
       "    </tr>\n",
       "  </thead>\n",
       "  <tbody>\n",
       "    <tr>\n",
       "      <th>0</th>\n",
       "      <td>Как распределяется доход фрилансеров в зависим...</td>\n",
       "      <td>SELECT Client_Region, AVG(Earnings_USD) AS Ave...</td>\n",
       "      <td>[{'client_region': 'Canada', 'average_earnings...</td>\n",
       "      <td>Средние доходы клиентов по регионам: Canada (5...</td>\n",
       "    </tr>\n",
       "    <tr>\n",
       "      <th>1</th>\n",
       "      <td>Какой процент фрилансеров, считающих себя эксп...</td>\n",
       "      <td>SELECT (COUNT(*) * 100.0 / (SELECT COUNT(*) FR...</td>\n",
       "      <td>[{'percentage': 33.853354134165365}]</td>\n",
       "      <td>Данные показывают значение процента в размере ...</td>\n",
       "    </tr>\n",
       "  </tbody>\n",
       "</table>\n",
       "</div>"
      ],
      "text/plain": [
       "                                            question  \\\n",
       "0  Как распределяется доход фрилансеров в зависим...   \n",
       "1  Какой процент фрилансеров, считающих себя эксп...   \n",
       "\n",
       "                                               query  \\\n",
       "0  SELECT Client_Region, AVG(Earnings_USD) AS Ave...   \n",
       "1  SELECT (COUNT(*) * 100.0 / (SELECT COUNT(*) FR...   \n",
       "\n",
       "                                              result  \\\n",
       "0  [{'client_region': 'Canada', 'average_earnings...   \n",
       "1               [{'percentage': 33.853354134165365}]   \n",
       "\n",
       "                                            response  \n",
       "0  Средние доходы клиентов по регионам: Canada (5...  \n",
       "1  Данные показывают значение процента в размере ...  "
      ]
     },
     "execution_count": 138,
     "metadata": {},
     "output_type": "execute_result"
    }
   ],
   "source": [
    "questions = [\n",
    "    \"Как распределяется доход фрилансеров в зависимости от региона проживания?\",\n",
    "    \"Какой процент фрилансеров, считающих себя экспертами, выполнил менее 100 проектов?\"\n",
    "]\n",
    "\n",
    "responses = []\n",
    "for question in questions:\n",
    "\tquery = await input_prompt(question)\n",
    "\tresult = await query_result(query)\n",
    "\tresponse = await hidden_prompt(result.to_json(orient='records', force_ascii=False))\n",
    "\tresponses.append({\n",
    "\t\t\"question\": question,\n",
    "\t\t\"query\": query,\n",
    "\t\t\"result\": result.to_dict(orient='records'),\n",
    "\t\t\"response\": response\n",
    "\t})\n",
    "\n",
    "responses_df = pd.DataFrame(responses)\n",
    "responses_df"
   ]
  },
  {
   "cell_type": "code",
   "execution_count": 139,
   "id": "7b96fb58",
   "metadata": {},
   "outputs": [
    {
     "data": {
      "text/plain": [
       "'Средние доходы клиентов по регионам: Canada (5350) — самый высокий, затем Asia (5172), UK (5047), Australia (4966), Europe (4891), USA (4873), Middle East (4871) — самый низкий. Разница между лидером и аутсайдером составляет ~48.'"
      ]
     },
     "execution_count": 139,
     "metadata": {},
     "output_type": "execute_result"
    }
   ],
   "source": [
    "responses_df['response'][0]  # выводим ответ на первый вопрос\n"
   ]
  },
  {
   "cell_type": "code",
   "execution_count": 140,
   "id": "b6726607",
   "metadata": {},
   "outputs": [
    {
     "data": {
      "text/plain": [
       "'Данные показывают значение процента в размере 33.85%.'"
      ]
     },
     "execution_count": 140,
     "metadata": {},
     "output_type": "execute_result"
    }
   ],
   "source": [
    "responses_df['response'][1]  # выводим ответ на второй вопрос"
   ]
  },
  {
   "cell_type": "markdown",
   "id": "7a03560e",
   "metadata": {},
   "source": [
    "Попробуем попросить нейросеть составить дополнительные 5 вопросов по данной таблице"
   ]
  },
  {
   "cell_type": "code",
   "execution_count": 142,
   "id": "25616729",
   "metadata": {},
   "outputs": [],
   "source": [
    "for_requests = {\n",
    "    \"role\": \"system\",\n",
    "\t\"content\": f\"Твой контекст: {context}\\n Ты аналитик данных и твоя задача - ответить на вопрос пользователя коротко и по существу.\"\n",
    "}"
   ]
  },
  {
   "cell_type": "code",
   "execution_count": 143,
   "id": "43fb7af5",
   "metadata": {},
   "outputs": [
    {
     "name": "stdout",
     "output_type": "stream",
     "text": [
      "Какая профессиональная категория фрилансеров имеет самый высокий процент успешных завершений проектов  \n",
      "Какие платформы демонстрируют наибольшие средние показатели заработков у фрилансеров  \n",
      "Существует ли корреляция между уровнем опыта фрилансера и средним рейтингом, полученным от клиентов  \n",
      "Как маркетинговые расходы влияют на количество выполненных проектов у фрилансеров  \n",
      "Какие типы проектов связаны с наибольшей продолжительностью выполнения в днях\n"
     ]
    }
   ],
   "source": [
    "completion = client.chat.completions.create(\n",
    "  model=\"qwen/qwen3-30b-a3b:free\",\n",
    "  messages=[\n",
    "    for_requests,\n",
    "    {\n",
    "      \"role\": \"user\",\n",
    "      \"content\": 'Придумай 5 вопросов в соответствии с контекстом. Отдели вопрос друг от друга переносами строки. Без форматирования и кавычек. Только вопросы.'\n",
    "    }\n",
    "  ],\n",
    "  temperature = 1\n",
    ")\n",
    "response_message = completion.choices[0].message.content\n",
    "print(response_message )"
   ]
  },
  {
   "cell_type": "code",
   "execution_count": 144,
   "id": "d36fd08d",
   "metadata": {},
   "outputs": [],
   "source": [
    "questions = response_message.strip().split('\\n')"
   ]
  },
  {
   "cell_type": "code",
   "execution_count": 145,
   "id": "ccc77c3f",
   "metadata": {},
   "outputs": [
    {
     "data": {
      "text/plain": [
       "['Какая профессиональная категория фрилансеров имеет самый высокий процент успешных завершений проектов  ',\n",
       " 'Какие платформы демонстрируют наибольшие средние показатели заработков у фрилансеров  ',\n",
       " 'Существует ли корреляция между уровнем опыта фрилансера и средним рейтингом, полученным от клиентов  ',\n",
       " 'Как маркетинговые расходы влияют на количество выполненных проектов у фрилансеров  ',\n",
       " 'Какие типы проектов связаны с наибольшей продолжительностью выполнения в днях']"
      ]
     },
     "execution_count": 145,
     "metadata": {},
     "output_type": "execute_result"
    }
   ],
   "source": [
    "questions"
   ]
  },
  {
   "cell_type": "code",
   "execution_count": 146,
   "id": "af9159da",
   "metadata": {},
   "outputs": [
    {
     "name": "stderr",
     "output_type": "stream",
     "text": [
      "/tmp/ipykernel_20865/907882974.py:35: UserWarning: pandas only supports SQLAlchemy connectable (engine/connection) or database string URI or sqlite3 DBAPI2 connection. Other DBAPI2 objects are not tested. Please consider using SQLAlchemy.\n",
      "  result = pd.read_sql_query(sql_query, conn)\n",
      "/tmp/ipykernel_20865/907882974.py:35: UserWarning: pandas only supports SQLAlchemy connectable (engine/connection) or database string URI or sqlite3 DBAPI2 connection. Other DBAPI2 objects are not tested. Please consider using SQLAlchemy.\n",
      "  result = pd.read_sql_query(sql_query, conn)\n",
      "/tmp/ipykernel_20865/907882974.py:35: UserWarning: pandas only supports SQLAlchemy connectable (engine/connection) or database string URI or sqlite3 DBAPI2 connection. Other DBAPI2 objects are not tested. Please consider using SQLAlchemy.\n",
      "  result = pd.read_sql_query(sql_query, conn)\n",
      "/tmp/ipykernel_20865/907882974.py:35: UserWarning: pandas only supports SQLAlchemy connectable (engine/connection) or database string URI or sqlite3 DBAPI2 connection. Other DBAPI2 objects are not tested. Please consider using SQLAlchemy.\n",
      "  result = pd.read_sql_query(sql_query, conn)\n",
      "/tmp/ipykernel_20865/907882974.py:35: UserWarning: pandas only supports SQLAlchemy connectable (engine/connection) or database string URI or sqlite3 DBAPI2 connection. Other DBAPI2 objects are not tested. Please consider using SQLAlchemy.\n",
      "  result = pd.read_sql_query(sql_query, conn)\n"
     ]
    },
    {
     "data": {
      "application/vnd.microsoft.datawrangler.viewer.v0+json": {
       "columns": [
        {
         "name": "index",
         "rawType": "int64",
         "type": "integer"
        },
        {
         "name": "question",
         "rawType": "object",
         "type": "string"
        },
        {
         "name": "query",
         "rawType": "object",
         "type": "string"
        },
        {
         "name": "result",
         "rawType": "object",
         "type": "unknown"
        },
        {
         "name": "response",
         "rawType": "object",
         "type": "string"
        }
       ],
       "ref": "f3f67061-546c-4c54-a92c-f3d92e20adef",
       "rows": [
        [
         "0",
         "Как распределяется доход фрилансеров в зависимости от региона проживания?",
         "SELECT Client_Region, AVG(Earnings_USD) AS Average_Earnings FROM freelancers GROUP BY Client_Region ORDER BY Average_Earnings DESC;",
         "[{'client_region': 'Canada', 'average_earnings': 5350.134146341464}, {'client_region': 'Asia', 'average_earnings': 5172.284697508897}, {'client_region': 'UK', 'average_earnings': 5047.089285714285}, {'client_region': 'Australia', 'average_earnings': 4966.097315436242}, {'client_region': 'Europe', 'average_earnings': 4890.530534351145}, {'client_region': 'USA', 'average_earnings': 4872.948630136986}, {'client_region': 'Middle East', 'average_earnings': 4870.817869415808}]",
         "Средние доходы клиентов по регионам: Canada (5350) — самый высокий, затем Asia (5172), UK (5047), Australia (4966), Europe (4891), USA (4873), Middle East (4871) — самый низкий. Разница между лидером и аутсайдером составляет ~48."
        ],
        [
         "1",
         "Какой процент фрилансеров, считающих себя экспертами, выполнил менее 100 проектов?",
         "SELECT (COUNT(*) * 100.0 / (SELECT COUNT(*) FROM freelancers WHERE Experience_Level = 'Expert')) AS percentage FROM freelancers WHERE Experience_Level = 'Expert' AND Job_Completed < 100;",
         "[{'percentage': 33.853354134165365}]",
         "Данные показывают значение процента в размере 33.85%."
        ],
        [
         "2",
         "Какая профессиональная категория фрилансеров имеет самый высокий процент успешных завершений проектов  ",
         "SELECT Job_Category, AVG(Job_Success_Rate) AS avg_success_rate\nFROM freelancers\nGROUP BY Job_Category\nORDER BY avg_success_rate DESC\nLIMIT 1;",
         "[{'job_category': 'Graphic Design', 'avg_success_rate': 77.26807528801685}]",
         "Средний уровень успеха в категории \"Graphic Design\" составляет 77.27%. Данных для анализа недостаточно, чтобы сделать более глубокие выводы."
        ],
        [
         "3",
         "Какие платформы демонстрируют наибольшие средние показатели заработков у фрилансеров  ",
         "SELECT Platform, AVG(Earnings_USD) AS average_earnings FROM freelancers GROUP BY Platform ORDER BY average_earnings DESC;",
         "[{'platform': 'Fiverr', 'average_earnings': 5067.721227621483}, {'platform': 'Freelancer', 'average_earnings': 5039.272020725389}, {'platform': 'PeoplePerHour', 'average_earnings': 5030.782122905028}, {'platform': 'Upwork', 'average_earnings': 5028.957142857143}, {'platform': 'Toptal', 'average_earnings': 4922.620253164557}]",
         "Все платформы имеют схожие средние заработки, с небольшими различиями. Fiverr лидирует (5067.72), затем Freelancer (5039.27), PeoplePerHour (5030.78), Upwork (5028.96), а Toptal отстает (4922.62). Разница между максимальным и минимальным значением составляет ~145 долларов."
        ],
        [
         "4",
         "Существует ли корреляция между уровнем опыта фрилансера и средним рейтингом, полученным от клиентов  ",
         "SELECT CORR(\n    CASE WHEN Experience_Level = 'Beginner' THEN 1\n         WHEN Experience_Level = 'Intermediate' THEN 2\n         WHEN Experience_Level = 'Expert' THEN 3\n    END,\n    Client_Rating\n) AS correlation\nFROM freelancers;",
         "[{'correlation': 0.004510618109876524}]",
         "Коэффициент корреляции равен **0.0045**, что указывает на **очень слабую или практически отсутствующую линейную зависимость** между переменными. Значение близко к нулю, поэтому связь можно считать незначимой."
        ],
        [
         "5",
         "Как маркетинговые расходы влияют на количество выполненных проектов у фрилансеров  ",
         "SELECT corr(Marketing_Spend, Job_Completed) AS correlation_coefficient\nFROM freelancers;",
         "[{'correlation_coefficient': 0.03529915288382775}]",
         "Коэффициент корреляции (0.035) близок к нулю, что указывает на слабую или отсутствующую линейную связь между переменными."
        ],
        [
         "6",
         "Какие типы проектов связаны с наибольшей продолжительностью выполнения в днях",
         "SELECT Project_Type, AVG(Job_Duration_Days) AS average_duration FROM freelancers GROUP BY Project_Type ORDER BY average_duration DESC;",
         "[{'project_type': 'Hourly', 'average_duration': 45.76810073452256}, {'project_type': 'Fixed', 'average_duration': 43.688064192577734}]",
         "Средняя продолжительность проектов типа \"Hourly\" (45.77) выше, чем у \"Fixed\" (43.69)."
        ]
       ],
       "shape": {
        "columns": 4,
        "rows": 7
       }
      },
      "text/html": [
       "<div>\n",
       "<style scoped>\n",
       "    .dataframe tbody tr th:only-of-type {\n",
       "        vertical-align: middle;\n",
       "    }\n",
       "\n",
       "    .dataframe tbody tr th {\n",
       "        vertical-align: top;\n",
       "    }\n",
       "\n",
       "    .dataframe thead th {\n",
       "        text-align: right;\n",
       "    }\n",
       "</style>\n",
       "<table border=\"1\" class=\"dataframe\">\n",
       "  <thead>\n",
       "    <tr style=\"text-align: right;\">\n",
       "      <th></th>\n",
       "      <th>question</th>\n",
       "      <th>query</th>\n",
       "      <th>result</th>\n",
       "      <th>response</th>\n",
       "    </tr>\n",
       "  </thead>\n",
       "  <tbody>\n",
       "    <tr>\n",
       "      <th>0</th>\n",
       "      <td>Как распределяется доход фрилансеров в зависим...</td>\n",
       "      <td>SELECT Client_Region, AVG(Earnings_USD) AS Ave...</td>\n",
       "      <td>[{'client_region': 'Canada', 'average_earnings...</td>\n",
       "      <td>Средние доходы клиентов по регионам: Canada (5...</td>\n",
       "    </tr>\n",
       "    <tr>\n",
       "      <th>1</th>\n",
       "      <td>Какой процент фрилансеров, считающих себя эксп...</td>\n",
       "      <td>SELECT (COUNT(*) * 100.0 / (SELECT COUNT(*) FR...</td>\n",
       "      <td>[{'percentage': 33.853354134165365}]</td>\n",
       "      <td>Данные показывают значение процента в размере ...</td>\n",
       "    </tr>\n",
       "    <tr>\n",
       "      <th>2</th>\n",
       "      <td>Какая профессиональная категория фрилансеров и...</td>\n",
       "      <td>SELECT Job_Category, AVG(Job_Success_Rate) AS ...</td>\n",
       "      <td>[{'job_category': 'Graphic Design', 'avg_succe...</td>\n",
       "      <td>Средний уровень успеха в категории \"Graphic De...</td>\n",
       "    </tr>\n",
       "    <tr>\n",
       "      <th>3</th>\n",
       "      <td>Какие платформы демонстрируют наибольшие средн...</td>\n",
       "      <td>SELECT Platform, AVG(Earnings_USD) AS average_...</td>\n",
       "      <td>[{'platform': 'Fiverr', 'average_earnings': 50...</td>\n",
       "      <td>Все платформы имеют схожие средние заработки, ...</td>\n",
       "    </tr>\n",
       "    <tr>\n",
       "      <th>4</th>\n",
       "      <td>Существует ли корреляция между уровнем опыта ф...</td>\n",
       "      <td>SELECT CORR(\\n    CASE WHEN Experience_Level =...</td>\n",
       "      <td>[{'correlation': 0.004510618109876524}]</td>\n",
       "      <td>Коэффициент корреляции равен **0.0045**, что у...</td>\n",
       "    </tr>\n",
       "    <tr>\n",
       "      <th>5</th>\n",
       "      <td>Как маркетинговые расходы влияют на количество...</td>\n",
       "      <td>SELECT corr(Marketing_Spend, Job_Completed) AS...</td>\n",
       "      <td>[{'correlation_coefficient': 0.035299152883827...</td>\n",
       "      <td>Коэффициент корреляции (0.035) близок к нулю, ...</td>\n",
       "    </tr>\n",
       "    <tr>\n",
       "      <th>6</th>\n",
       "      <td>Какие типы проектов связаны с наибольшей продо...</td>\n",
       "      <td>SELECT Project_Type, AVG(Job_Duration_Days) AS...</td>\n",
       "      <td>[{'project_type': 'Hourly', 'average_duration'...</td>\n",
       "      <td>Средняя продолжительность проектов типа \"Hourl...</td>\n",
       "    </tr>\n",
       "  </tbody>\n",
       "</table>\n",
       "</div>"
      ],
      "text/plain": [
       "                                            question  \\\n",
       "0  Как распределяется доход фрилансеров в зависим...   \n",
       "1  Какой процент фрилансеров, считающих себя эксп...   \n",
       "2  Какая профессиональная категория фрилансеров и...   \n",
       "3  Какие платформы демонстрируют наибольшие средн...   \n",
       "4  Существует ли корреляция между уровнем опыта ф...   \n",
       "5  Как маркетинговые расходы влияют на количество...   \n",
       "6  Какие типы проектов связаны с наибольшей продо...   \n",
       "\n",
       "                                               query  \\\n",
       "0  SELECT Client_Region, AVG(Earnings_USD) AS Ave...   \n",
       "1  SELECT (COUNT(*) * 100.0 / (SELECT COUNT(*) FR...   \n",
       "2  SELECT Job_Category, AVG(Job_Success_Rate) AS ...   \n",
       "3  SELECT Platform, AVG(Earnings_USD) AS average_...   \n",
       "4  SELECT CORR(\\n    CASE WHEN Experience_Level =...   \n",
       "5  SELECT corr(Marketing_Spend, Job_Completed) AS...   \n",
       "6  SELECT Project_Type, AVG(Job_Duration_Days) AS...   \n",
       "\n",
       "                                              result  \\\n",
       "0  [{'client_region': 'Canada', 'average_earnings...   \n",
       "1               [{'percentage': 33.853354134165365}]   \n",
       "2  [{'job_category': 'Graphic Design', 'avg_succe...   \n",
       "3  [{'platform': 'Fiverr', 'average_earnings': 50...   \n",
       "4            [{'correlation': 0.004510618109876524}]   \n",
       "5  [{'correlation_coefficient': 0.035299152883827...   \n",
       "6  [{'project_type': 'Hourly', 'average_duration'...   \n",
       "\n",
       "                                            response  \n",
       "0  Средние доходы клиентов по регионам: Canada (5...  \n",
       "1  Данные показывают значение процента в размере ...  \n",
       "2  Средний уровень успеха в категории \"Graphic De...  \n",
       "3  Все платформы имеют схожие средние заработки, ...  \n",
       "4  Коэффициент корреляции равен **0.0045**, что у...  \n",
       "5  Коэффициент корреляции (0.035) близок к нулю, ...  \n",
       "6  Средняя продолжительность проектов типа \"Hourl...  "
      ]
     },
     "execution_count": 146,
     "metadata": {},
     "output_type": "execute_result"
    }
   ],
   "source": [
    "for question in questions:\n",
    "\tquery = await input_prompt(question)\n",
    "\tresult = await query_result(query)\n",
    "\tresponse = await hidden_prompt(result.to_json(orient='records', force_ascii=False))\n",
    "\tresponses.append({\n",
    "\t\t\"question\": question,\n",
    "\t\t\"query\": query,\n",
    "\t\t\"result\": result.to_dict(orient='records'),\n",
    "\t\t\"response\": response\n",
    "\t})\n",
    "\n",
    "responses_df = pd.DataFrame(responses)"
   ]
  },
  {
   "cell_type": "code",
   "execution_count": 147,
   "id": "61f2bd92",
   "metadata": {},
   "outputs": [
    {
     "data": {
      "application/vnd.microsoft.datawrangler.viewer.v0+json": {
       "columns": [
        {
         "name": "index",
         "rawType": "int64",
         "type": "integer"
        },
        {
         "name": "question",
         "rawType": "object",
         "type": "string"
        },
        {
         "name": "response",
         "rawType": "object",
         "type": "string"
        }
       ],
       "ref": "a242b786-0ae4-4a6a-8c0f-704c8be03f17",
       "rows": [
        [
         "0",
         "Как распределяется доход фрилансеров в зависимости от региона проживания?",
         "Средние доходы клиентов по регионам: Canada (5350) — самый высокий, затем Asia (5172), UK (5047), Australia (4966), Europe (4891), USA (4873), Middle East (4871) — самый низкий. Разница между лидером и аутсайдером составляет ~48."
        ],
        [
         "1",
         "Какой процент фрилансеров, считающих себя экспертами, выполнил менее 100 проектов?",
         "Данные показывают значение процента в размере 33.85%."
        ],
        [
         "2",
         "Какая профессиональная категория фрилансеров имеет самый высокий процент успешных завершений проектов  ",
         "Средний уровень успеха в категории \"Graphic Design\" составляет 77.27%. Данных для анализа недостаточно, чтобы сделать более глубокие выводы."
        ],
        [
         "3",
         "Какие платформы демонстрируют наибольшие средние показатели заработков у фрилансеров  ",
         "Все платформы имеют схожие средние заработки, с небольшими различиями. Fiverr лидирует (5067.72), затем Freelancer (5039.27), PeoplePerHour (5030.78), Upwork (5028.96), а Toptal отстает (4922.62). Разница между максимальным и минимальным значением составляет ~145 долларов."
        ],
        [
         "4",
         "Существует ли корреляция между уровнем опыта фрилансера и средним рейтингом, полученным от клиентов  ",
         "Коэффициент корреляции равен **0.0045**, что указывает на **очень слабую или практически отсутствующую линейную зависимость** между переменными. Значение близко к нулю, поэтому связь можно считать незначимой."
        ],
        [
         "5",
         "Как маркетинговые расходы влияют на количество выполненных проектов у фрилансеров  ",
         "Коэффициент корреляции (0.035) близок к нулю, что указывает на слабую или отсутствующую линейную связь между переменными."
        ],
        [
         "6",
         "Какие типы проектов связаны с наибольшей продолжительностью выполнения в днях",
         "Средняя продолжительность проектов типа \"Hourly\" (45.77) выше, чем у \"Fixed\" (43.69)."
        ]
       ],
       "shape": {
        "columns": 2,
        "rows": 7
       }
      },
      "text/html": [
       "<div>\n",
       "<style scoped>\n",
       "    .dataframe tbody tr th:only-of-type {\n",
       "        vertical-align: middle;\n",
       "    }\n",
       "\n",
       "    .dataframe tbody tr th {\n",
       "        vertical-align: top;\n",
       "    }\n",
       "\n",
       "    .dataframe thead th {\n",
       "        text-align: right;\n",
       "    }\n",
       "</style>\n",
       "<table border=\"1\" class=\"dataframe\">\n",
       "  <thead>\n",
       "    <tr style=\"text-align: right;\">\n",
       "      <th></th>\n",
       "      <th>question</th>\n",
       "      <th>response</th>\n",
       "    </tr>\n",
       "  </thead>\n",
       "  <tbody>\n",
       "    <tr>\n",
       "      <th>0</th>\n",
       "      <td>Как распределяется доход фрилансеров в зависим...</td>\n",
       "      <td>Средние доходы клиентов по регионам: Canada (5...</td>\n",
       "    </tr>\n",
       "    <tr>\n",
       "      <th>1</th>\n",
       "      <td>Какой процент фрилансеров, считающих себя эксп...</td>\n",
       "      <td>Данные показывают значение процента в размере ...</td>\n",
       "    </tr>\n",
       "    <tr>\n",
       "      <th>2</th>\n",
       "      <td>Какая профессиональная категория фрилансеров и...</td>\n",
       "      <td>Средний уровень успеха в категории \"Graphic De...</td>\n",
       "    </tr>\n",
       "    <tr>\n",
       "      <th>3</th>\n",
       "      <td>Какие платформы демонстрируют наибольшие средн...</td>\n",
       "      <td>Все платформы имеют схожие средние заработки, ...</td>\n",
       "    </tr>\n",
       "    <tr>\n",
       "      <th>4</th>\n",
       "      <td>Существует ли корреляция между уровнем опыта ф...</td>\n",
       "      <td>Коэффициент корреляции равен **0.0045**, что у...</td>\n",
       "    </tr>\n",
       "    <tr>\n",
       "      <th>5</th>\n",
       "      <td>Как маркетинговые расходы влияют на количество...</td>\n",
       "      <td>Коэффициент корреляции (0.035) близок к нулю, ...</td>\n",
       "    </tr>\n",
       "    <tr>\n",
       "      <th>6</th>\n",
       "      <td>Какие типы проектов связаны с наибольшей продо...</td>\n",
       "      <td>Средняя продолжительность проектов типа \"Hourl...</td>\n",
       "    </tr>\n",
       "  </tbody>\n",
       "</table>\n",
       "</div>"
      ],
      "text/plain": [
       "                                            question  \\\n",
       "0  Как распределяется доход фрилансеров в зависим...   \n",
       "1  Какой процент фрилансеров, считающих себя эксп...   \n",
       "2  Какая профессиональная категория фрилансеров и...   \n",
       "3  Какие платформы демонстрируют наибольшие средн...   \n",
       "4  Существует ли корреляция между уровнем опыта ф...   \n",
       "5  Как маркетинговые расходы влияют на количество...   \n",
       "6  Какие типы проектов связаны с наибольшей продо...   \n",
       "\n",
       "                                            response  \n",
       "0  Средние доходы клиентов по регионам: Canada (5...  \n",
       "1  Данные показывают значение процента в размере ...  \n",
       "2  Средний уровень успеха в категории \"Graphic De...  \n",
       "3  Все платформы имеют схожие средние заработки, ...  \n",
       "4  Коэффициент корреляции равен **0.0045**, что у...  \n",
       "5  Коэффициент корреляции (0.035) близок к нулю, ...  \n",
       "6  Средняя продолжительность проектов типа \"Hourl...  "
      ]
     },
     "execution_count": 147,
     "metadata": {},
     "output_type": "execute_result"
    }
   ],
   "source": [
    "responses_df.loc[:, ['question', 'response']]"
   ]
  },
  {
   "cell_type": "markdown",
   "id": "0d122b11",
   "metadata": {},
   "source": [
    "Изучение ответов показывает, что нейросеть даёт ответы с форматированием. Учтём это в системном пре-промпте"
   ]
  },
  {
   "cell_type": "markdown",
   "id": "a22b177e",
   "metadata": {},
   "source": [
    "## Оценка модели и пайплайна решений"
   ]
  },
  {
   "cell_type": "markdown",
   "id": "a9e1a4a6",
   "metadata": {},
   "source": [
    "На данный момент имеем модель, которая достаточно хорошо интерпретирует запросы пользователя в текстовый ответ.\n",
    "А значит, имеем некоторый baseline. "
   ]
  },
  {
   "cell_type": "markdown",
   "id": "40cf9646",
   "metadata": {},
   "source": [
    "Пропишем собственные SQL - запросы по данным вопросам\n",
    "```sql\n",
    "-- Как распределяется доход фрилансеров в зависимости от региона проживания?\n",
    "SELECT AVG(earnings_usd) as avg_earnings_usd, client_region as region from freelancers group by client_region order by avg_earnings_usd DESC;\n",
    "-- Какой процент фрилансеров, считающих себя экспертами, выполнил менее 100 проектов?\n",
    "\n",
    "WITH total_freelancers AS (\n",
    "    SELECT COUNT(freelancer_id) AS total FROM freelancers WHERE experience_level = 'Expert'\n",
    "),\n",
    "filtered_freelancers AS (\n",
    "    SELECT COUNT(freelancer_id) AS count FROM freelancers WHERE job_completed < 100 and experience_level = 'Expert'\n",
    ")\n",
    "SELECT \n",
    "    (filtered.count * 100.0) / total.total AS percent\n",
    "FROM \n",
    "    filtered_freelancers filtered, total_freelancers total;\n",
    "\n",
    "-- Какая профессиональная категория фрилансеров имеет самый высокий процент успешных завершений проектов?\n",
    "SELECT AVG(Job_Success_Rate) as avg_job_rate, job_category from freelancers group by job_category order by avg_job_rate DESC;\n",
    "\n",
    "-- Какие платформы демонстрируют наибольшие средние показатели заработков у фрилансеров?\n",
    "SELECT AVG(earnings_usd) as income_avg, platform from freelancers group by platform order by income_avg DESC;\n",
    "\n",
    "-- Существует ли корреляция между уровнем опыта фрилансера и средним рейтингом, полученным от клиентов?\n",
    "\n",
    "with _grouped AS (\n",
    "SELECT \n",
    "    CASE experience_level\n",
    "        WHEN 'Intermediate' THEN 2\n",
    "        WHEN 'Expert' THEN 3\n",
    "        WHEN 'Beginner' THEN 1\n",
    "    END as experience_level,\n",
    "    client_rating\n",
    "FROM freelancers)\n",
    "SELECT CORR(experience_level, client_rating) as correlate FROM _grouped\n",
    "\n",
    "-- Как маркетинговые расходы влияют на количество выполненных проектов у фрилансеров?\n",
    "\n",
    "SELECT CORR(marketing_spend, job_completed) as correlation from freelancers\n",
    "\n",
    "\n",
    "-- Какие типы проектов связаны с наибольшей продолжительностью выполнения в днях?\n",
    "select AVG(job_duration_days) as avg_duration, project_type from freelancers group by project_type order by avg_duration desc;\n",
    "```"
   ]
  },
  {
   "cell_type": "markdown",
   "id": "7bd5967c",
   "metadata": {},
   "source": [
    "Какой вывод можно сделать?  \n",
    "\n",
    " - Часто, нейронная сеть пишет более простые запросы (они более быстродейственны и эффективны)\n",
    " - Нейросеть умеет в семантику, в случае с корреляцией. Правильно проставляет ранги Intermediate / Beginner / Expert\n",
    " - Ни в одном запросе нейросети не было допущено логических и синтаксических ошибок\n",
    " - Выводы, которая делает нейросеть - не всегда однозначны. Это поможет решить более точное регулирование температуры в сторону нуля или сделать запоминание контекста, благодаря которому, пользователь сможет задачать уточняющие запросы по данным"
   ]
  }
 ],
 "metadata": {
  "kernelspec": {
   "display_name": ".venv",
   "language": "python",
   "name": "python3"
  },
  "language_info": {
   "codemirror_mode": {
    "name": "ipython",
    "version": 3
   },
   "file_extension": ".py",
   "mimetype": "text/x-python",
   "name": "python",
   "nbconvert_exporter": "python",
   "pygments_lexer": "ipython3",
   "version": "3.10.12"
  }
 },
 "nbformat": 4,
 "nbformat_minor": 5
}
